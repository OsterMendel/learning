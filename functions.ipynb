{
 "cells": [
  {
   "cell_type": "code",
   "execution_count": 5,
   "metadata": {},
   "outputs": [],
   "source": [
    "def Scoring(y_hat, y_actual):\n",
    "    '''\n",
    "    Function will return accuracy score, f1 score, precision, and recall\n",
    "    '''\n",
    "    print(accuracy_score(y_hat, y_actual))\n",
    "    print(precision_score(y_hat, y_actual)) \n",
    "    print(recall_score(y_hat, y_actual)) \n",
    "    print(f1_score(y_hat, y_actual))"
   ]
  }],
 "metadata": {
  "kernelspec": {
   "display_name": "Python 3",
   "language": "python",
   "name": "python3"
  },
  "language_info": {
   "codemirror_mode": {
    "name": "ipython",
    "version": 3
   },
   "file_extension": ".py",
   "mimetype": "text/x-python",
   "name": "python",
   "nbconvert_exporter": "python",
   "pygments_lexer": "ipython3",
   "version": "3.7.4"
  }
 },
 "nbformat": 4,
 "nbformat_minor": 2
}
